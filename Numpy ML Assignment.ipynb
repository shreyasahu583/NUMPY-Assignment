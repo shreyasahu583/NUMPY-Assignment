{
 "cells": [
  {
   "cell_type": "code",
   "execution_count": 1,
   "id": "44dacbf3-043d-457f-b18a-81a85f7a6d64",
   "metadata": {},
   "outputs": [],
   "source": [
    "import numpy as np\n",
    "import pandas as pd"
   ]
  },
  {
   "cell_type": "code",
   "execution_count": 2,
   "id": "3672128b-2d44-4e3a-a43c-f7f698774413",
   "metadata": {},
   "outputs": [
    {
     "name": "stdout",
     "output_type": "stream",
     "text": [
      "int32\n"
     ]
    }
   ],
   "source": [
    "#Q1\n",
    "arr = np.arange(6)\n",
    "print(arr.dtype)"
   ]
  },
  {
   "cell_type": "code",
   "execution_count": 3,
   "id": "45e9b45d-f81b-4c91-b1c8-745c86a0cd1a",
   "metadata": {},
   "outputs": [
    {
     "name": "stdout",
     "output_type": "stream",
     "text": [
      "True\n"
     ]
    }
   ],
   "source": [
    "#Q2\n",
    "arr = np.array([1.0, 2.0])\n",
    "print(arr.dtype == np.float64)\n"
   ]
  },
  {
   "cell_type": "code",
   "execution_count": 5,
   "id": "654fc3dc-acb6-4917-b6d0-fa7930596835",
   "metadata": {},
   "outputs": [
    {
     "name": "stdout",
     "output_type": "stream",
     "text": [
      "[1.+2.j 3.+4.j 5.+6.j]\n"
     ]
    }
   ],
   "source": [
    "#Q3\n",
    "arr = np.array([1+2j, 3+4j, 5+6j], dtype=np.complex128)\n",
    "print(arr)"
   ]
  },
  {
   "cell_type": "code",
   "execution_count": 6,
   "id": "5d16b31b-6b69-4623-a997-b85d1873a739",
   "metadata": {},
   "outputs": [
    {
     "name": "stdout",
     "output_type": "stream",
     "text": [
      "[1. 2. 3.]\n"
     ]
    }
   ],
   "source": [
    "#Q4\n",
    "arr = np.array([1, 2, 3], dtype=np.int32)\n",
    "arr = arr.astype(np.float32)\n",
    "print(arr)"
   ]
  },
  {
   "cell_type": "code",
   "execution_count": 7,
   "id": "a0b6bba4-ccfb-400b-915b-32862c304445",
   "metadata": {},
   "outputs": [
    {
     "name": "stdout",
     "output_type": "stream",
     "text": [
      "[1.1 2.2]\n"
     ]
    }
   ],
   "source": [
    "#Q4\n",
    "arr = np.array([1.1, 2.2], dtype=np.float64)\n",
    "arr = arr.astype(np.float32)\n",
    "print(arr)"
   ]
  },
  {
   "cell_type": "code",
   "execution_count": 18,
   "id": "c3ed7f75-5504-45bf-a76d-c8243ee28a9f",
   "metadata": {},
   "outputs": [
    {
     "name": "stdout",
     "output_type": "stream",
     "text": [
      "Original float64 array: [1.12345679 2.98765432] Dtype: float64\n",
      "Converted float32 array: [1.1234568 2.9876542] Dtype: float32\n"
     ]
    }
   ],
   "source": [
    "# 5. Given a NumPy array arr with float64 data type, convert it to float32.\n",
    "float64_arr = np.array([1.123456789, 2.987654321], dtype=np.float64)\n",
    "float32_arr_reduced = float64_arr.astype(np.float32)\n",
    "\n",
    "print(\"Original float64 array:\", float64_arr, \"Dtype:\", float64_arr.dtype)\n",
    "print(\"Converted float32 array:\", float32_arr_reduced, \"Dtype:\", float32_arr_reduced.dtype)\n"
   ]
  },
  {
   "cell_type": "code",
   "execution_count": 19,
   "id": "a2b97278-7880-4d0e-9d34-436283bc4178",
   "metadata": {},
   "outputs": [
    {
     "name": "stdout",
     "output_type": "stream",
     "text": [
      "Array:\n",
      " [[1 2 3]\n",
      " [4 5 6]]\n",
      "Shape: (2, 3), Size: 6, Data Type: int32\n"
     ]
    }
   ],
   "source": [
    "# 6. Write a function array_attributes that takes a NumPy array as input and returns its shape, size, and data type.\n",
    "def array_attributes(arr):\n",
    "    return arr.shape, arr.size, arr.dtype\n",
    "\n",
    "arr_for_attrs = np.array([[1, 2, 3], [4, 5, 6]])\n",
    "shape, size, dtype = array_attributes(arr_for_attrs)\n",
    "\n",
    "print(\"Array:\\n\", arr_for_attrs)\n",
    "print(f\"Shape: {shape}, Size: {size}, Data Type: {dtype}\")\n"
   ]
  },
  {
   "cell_type": "code",
   "execution_count": 20,
   "id": "56ee8edc-75b3-48e6-acb6-d3fa158770f1",
   "metadata": {},
   "outputs": [
    {
     "name": "stdout",
     "output_type": "stream",
     "text": [
      "Array:\n",
      " [[[1]\n",
      "  [2]]\n",
      "\n",
      " [[3]\n",
      "  [4]]]\n",
      "Dimension: 3\n"
     ]
    }
   ],
   "source": [
    "# 7. Create a function array_dimension that returns the dimensionality of a NumPy array.\n",
    "def array_dimension(arr):\n",
    "    return arr.ndim\n",
    "\n",
    "arr_3d = np.array([[[1], [2]], [[3], [4]]])\n",
    "\n",
    "print(\"Array:\\n\", arr_3d)\n",
    "print(\"Dimension:\", array_dimension(arr_3d))\n"
   ]
  },
  {
   "cell_type": "code",
   "execution_count": 21,
   "id": "8478387d-2285-4911-870d-f35a0b24ec5d",
   "metadata": {},
   "outputs": [
    {
     "name": "stdout",
     "output_type": "stream",
     "text": [
      "Array: [1 2 3]\n",
      "Item Size (bytes): 8, Total Size (bytes): 24\n"
     ]
    }
   ],
   "source": [
    "# 8. Design a function item_size_info that returns the item size and total size in bytes of a NumPy array.\n",
    "def item_size_info(arr):\n",
    "    return arr.itemsize, arr.nbytes\n",
    "\n",
    "arr_for_bytes = np.array([1, 2, 3], dtype=np.int64)\n",
    "itemsize, nbytes = item_size_info(arr_for_bytes)\n",
    "\n",
    "print(\"Array:\", arr_for_bytes)\n",
    "print(f\"Item Size (bytes): {itemsize}, Total Size (bytes): {nbytes}\")\n"
   ]
  },
  {
   "cell_type": "code",
   "execution_count": 12,
   "id": "a04c8811-d969-450e-a527-da8c68ae055f",
   "metadata": {},
   "outputs": [],
   "source": [
    "# 9. Create a function array_strides that returns the strides of the given NumPy array.\n",
    "def array_strides(arr):\n",
    "    return arr.strides\n",
    "\n",
    "arr_for_strides = np.array([[1, 2, 3], [4, 5, 6]], dtype=np.int32)\n",
    "# Strides: (bytes to go to next row, bytes to go to next column) -> (3*4, 4)\n",
    "\n",
    "print(\"Array:\\n\", arr_for_strides)\n",
    "print(\"Strides (bytes):\", array_strides(arr_for_strides))\n"
   ]
  },
  {
   "cell_type": "code",
   "execution_count": 22,
   "id": "bbf6975c-5ea9-49be-b703-65b88193729e",
   "metadata": {},
   "outputs": [
    {
     "name": "stdout",
     "output_type": "stream",
     "text": [
      "Array:\n",
      " [[1 2]\n",
      " [3 4]\n",
      " [5 6]]\n",
      "Shape: (3, 2), Strides: (4, 2)\n"
     ]
    }
   ],
   "source": [
    "# 10. Design a function shape_stride_relationship that returns the shape and strides of the given array.\n",
    "def shape_stride_relationship(arr):\n",
    "    return arr.shape, arr.strides\n",
    "\n",
    "arr_for_shape_stride = np.array([[1, 2], [3, 4], [5, 6]], dtype=np.int16)\n",
    "# Shape: (3, 2). Strides: (bytes for next row, bytes for next col) -> (2*2, 2)\n",
    "shape, strides = shape_stride_relationship(arr_for_shape_stride)\n",
    "print(\"Array:\\n\", arr_for_shape_stride)\n",
    "print(f\"Shape: {shape}, Strides: {strides}\")\n"
   ]
  },
  {
   "cell_type": "code",
   "execution_count": 23,
   "id": "57292b8e-5679-44a1-8d30-7f99d175346b",
   "metadata": {},
   "outputs": [
    {
     "name": "stdout",
     "output_type": "stream",
     "text": [
      "[0. 0. 0. 0. 0.]\n"
     ]
    }
   ],
   "source": [
    "# 11. Create a function create_zeros_array(n) to return a NumPy array of zeros with n elements.\n",
    "def create_zeros_array(n):\n",
    "    return np.zeros(n)\n",
    "print(create_zeros_array(5))"
   ]
  },
  {
   "cell_type": "code",
   "execution_count": 24,
   "id": "86e4ecab-3c1d-4641-8aa0-e0e18fad788e",
   "metadata": {},
   "outputs": [
    {
     "name": "stdout",
     "output_type": "stream",
     "text": [
      "[[1. 1. 1. 1.]\n",
      " [1. 1. 1. 1.]\n",
      " [1. 1. 1. 1.]]\n"
     ]
    }
   ],
   "source": [
    "# 12. Write a function create_ones_matrix(rows, cols) to create a 2D array filled with ones.\n",
    "def create_ones_matrix(rows, cols):\n",
    "    return np.ones((rows, cols))\n",
    "print(create_ones_matrix(3, 4))\n"
   ]
  },
  {
   "cell_type": "code",
   "execution_count": 25,
   "id": "b8117112-b787-48ae-a60d-497654cf7ff8",
   "metadata": {},
   "outputs": [
    {
     "name": "stdout",
     "output_type": "stream",
     "text": [
      "[10 15 20 25 30 35 40 45]\n"
     ]
    }
   ],
   "source": [
    "# 13. Write a function generate_range_array (start, stop, step) to create a ranged NumPy array.\n",
    "def generate_range_array(start, stop, step):\n",
    "    return np.arange(start, stop, step)\n",
    "print(generate_range_array(10, 50, 5))\n"
   ]
  },
  {
   "cell_type": "code",
   "execution_count": 26,
   "id": "2334f2cc-9cfa-4943-8309-53ee67c6113c",
   "metadata": {},
   "outputs": [
    {
     "name": "stdout",
     "output_type": "stream",
     "text": [
      "[ 0.   2.5  5.   7.5 10. ]\n"
     ]
    }
   ],
   "source": [
    "# 14. Design a function generate_linear_space(start, stop, num) for equally spaced values.\n",
    "def generate_linear_space(start, stop, num):\n",
    "    return np.linspace(start, stop, num)\n",
    "print(generate_linear_space(0, 10, 5))\n"
   ]
  },
  {
   "cell_type": "code",
   "execution_count": 27,
   "id": "5fde114a-0059-4efd-87cc-444fa3a9204a",
   "metadata": {},
   "outputs": [
    {
     "name": "stdout",
     "output_type": "stream",
     "text": [
      "[[1. 0. 0. 0.]\n",
      " [0. 1. 0. 0.]\n",
      " [0. 0. 1. 0.]\n",
      " [0. 0. 0. 1.]]\n"
     ]
    }
   ],
   "source": [
    "# 15. Create a function create_identity_matrix(n) using numpy.eye.\n",
    "def create_identity_matrix(n):\n",
    "    return np.eye(n)\n",
    "print(create_identity_matrix(4))\n"
   ]
  },
  {
   "cell_type": "code",
   "execution_count": 28,
   "id": "1027ca00-f9a1-430c-8d75-27dff551b466",
   "metadata": {},
   "outputs": [
    {
     "name": "stdout",
     "output_type": "stream",
     "text": [
      "[[1 2]\n",
      " [3 4]]\n"
     ]
    }
   ],
   "source": [
    "# 16. Write a function that converts a Python list into a NumPy array.\n",
    "def list_to_numpy_array(py_list):\n",
    "    return np.array(py_list)\n",
    "my_list = [[1, 2], [3, 4]]\n",
    "print(list_to_numpy_array(my_list))\n"
   ]
  },
  {
   "cell_type": "code",
   "execution_count": 29,
   "id": "fefd1862-d5a1-44be-b7b6-391f1d185f7b",
   "metadata": {},
   "outputs": [
    {
     "name": "stdout",
     "output_type": "stream",
     "text": [
      "Original Array: [100   2   3   4]\n",
      "View Array: [100   2   3   4]\n"
     ]
    }
   ],
   "source": [
    "# 17. Create a NumPy array and use numpy.view() to create a new view with the same data.\n",
    "original_arr = np.array([1, 2, 3, 4])\n",
    "view_arr = original_arr.view()\n",
    "view_arr[0] = 100\n",
    "print(\"Original Array:\", original_arr)\n",
    "print(\"View Array:\", view_arr)\n"
   ]
  },
  {
   "cell_type": "code",
   "execution_count": 30,
   "id": "90833892-30a0-4fea-9e9c-738f0e1c7560",
   "metadata": {},
   "outputs": [
    {
     "name": "stdout",
     "output_type": "stream",
     "text": [
      "Concatenate along axis 0 (rows):\n",
      " [[1 2]\n",
      " [3 4]\n",
      " [5 6]]\n",
      "Concatenate along axis 1 (cols):\n",
      " [[1 2 5]\n",
      " [3 4 6]]\n"
     ]
    }
   ],
   "source": [
    "# 18. Write a function to concatenate two NumPy arrays along a specified axis.\n",
    "def concat_arrays(arr1, arr2, axis=0):\n",
    "    return np.concatenate((arr1, arr2), axis=axis)\n",
    "\n",
    "a = np.array([[1, 2], [3, 4]])\n",
    "b = np.array([[5, 6]])\n",
    "print(\"Concatenate along axis 0 (rows):\\n\", concat_arrays(a, b, axis=0))\n",
    "print(\"Concatenate along axis 1 (cols):\\n\", concat_arrays(a, b.T, axis=1))"
   ]
  },
  {
   "cell_type": "code",
   "execution_count": 32,
   "id": "c455b375-2b01-46bb-b3e2-a1ef9bf43237",
   "metadata": {},
   "outputs": [
    {
     "name": "stdout",
     "output_type": "stream",
     "text": [
      "Array 1:\n",
      " [[1 2]\n",
      " [3 4]]\n",
      "Array 2:\n",
      " [[5]\n",
      " [6]]\n",
      "Horizontally concatenated:\n",
      " [[1 2 5]\n",
      " [3 4 6]]\n"
     ]
    }
   ],
   "source": [
    "# 19. Concatenate two arrays with different shapes horizontally using numpy.concatenate.\n",
    "\n",
    "arr1 = np.array([[1, 2], [3, 4]])\n",
    "arr2 = np.array([[5], [6]]) # arr2 has same number of rows (2)\n",
    "concatenated_h = np.concatenate((arr1, arr2), axis=1)\n",
    "print(\"Array 1:\\n\", arr1)\n",
    "print(\"Array 2:\\n\", arr2)\n",
    "print(\"Horizontally concatenated:\\n\", concatenated_h)\n"
   ]
  },
  {
   "cell_type": "code",
   "execution_count": 33,
   "id": "4e4ab147-af33-4b6a-8978-ee1462e27be6",
   "metadata": {},
   "outputs": [
    {
     "name": "stdout",
     "output_type": "stream",
     "text": [
      "List of arrays: [array([1, 2, 3]), array([4, 5, 6]), array([7, 8, 9])]\n",
      "Vertically stacked array:\n",
      " [[1 2 3]\n",
      " [4 5 6]\n",
      " [7 8 9]]\n"
     ]
    }
   ],
   "source": [
    "# 20. Vertically stack multiple arrays from a list using numpy.vstack.\n",
    "array_list = [np.array([1, 2, 3]), np.array([4, 5, 6]), np.array([7, 8, 9])]\n",
    "stacked_v = np.vstack(array_list)\n",
    "\n",
    "print(\"List of arrays:\", array_list)\n",
    "print(\"Vertically stacked array:\\n\", stacked_v)\n"
   ]
  },
  {
   "cell_type": "code",
   "execution_count": 34,
   "id": "72b82901-3bbd-4e68-b959-8fde62c96e05",
   "metadata": {},
   "outputs": [
    {
     "name": "stdout",
     "output_type": "stream",
     "text": [
      "[1 3 5 7 9]\n"
     ]
    }
   ],
   "source": [
    "# 21. Write a function to generate an array of integers within a specified range (inclusive) with a step.\n",
    "def generate_inclusive_range(start, stop, step):\n",
    "    return np.arange(start, stop + 1, step)\n",
    "print(generate_inclusive_range(1, 10, 2))\n"
   ]
  },
  {
   "cell_type": "code",
   "execution_count": 35,
   "id": "297b6734-fc76-4a81-b01c-118e31a2565d",
   "metadata": {},
   "outputs": [
    {
     "name": "stdout",
     "output_type": "stream",
     "text": [
      "[0.         0.11111111 0.22222222 0.33333333 0.44444444 0.55555556\n",
      " 0.66666667 0.77777778 0.88888889 1.        ]\n"
     ]
    }
   ],
   "source": [
    "# 22. Generate 10 equally spaced values between 0 and 1 using NumPy.\n",
    "spaced_values = np.linspace(0, 1, 10)\n",
    "print(spaced_values)\n"
   ]
  },
  {
   "cell_type": "code",
   "execution_count": 36,
   "id": "32fb3e7a-363e-41f3-8383-fdbf81eef88e",
   "metadata": {},
   "outputs": [
    {
     "name": "stdout",
     "output_type": "stream",
     "text": [
      "[   1.            5.62341325   31.6227766   177.827941   1000.        ]\n"
     ]
    }
   ],
   "source": [
    "# 23. Create 5 logarithmically spaced values between 1 and 1000.\n",
    "log_values = np.logspace(0, 3, 5) # 10**0=1, 10**3=1000\n",
    "print(log_values)\n"
   ]
  },
  {
   "cell_type": "code",
   "execution_count": 37,
   "id": "6a92a3af-92e4-459e-a4b4-71fecff33591",
   "metadata": {},
   "outputs": [
    {
     "name": "stdout",
     "output_type": "stream",
     "text": [
      "NumPy Array:\n",
      " [[90 22 99]\n",
      " [95 50 79]\n",
      " [29 22 62]\n",
      " [16 39 16]\n",
      " [47 58 66]]\n",
      "Pandas DataFrame:\n",
      "    Col1  Col2  Col3\n",
      "0    90    22    99\n",
      "1    95    50    79\n",
      "2    29    22    62\n",
      "3    16    39    16\n",
      "4    47    58    66\n"
     ]
    }
   ],
   "source": [
    "import pandas as pd\n",
    "\n",
    "# 24. Create a Pandas DataFrame from a NumPy array.\n",
    "random_np_array = np.random.randint(1, 101, size=(5, 3))\n",
    "df = pd.DataFrame(random_np_array, columns=['Col1', 'Col2', 'Col3'])\n",
    "print(\"NumPy Array:\\n\", random_np_array)\n",
    "print(\"Pandas DataFrame:\\n\", df)\n"
   ]
  },
  {
   "cell_type": "code",
   "execution_count": 38,
   "id": "c0af16fb-4fae-4fba-bcc6-e6d71bdda58d",
   "metadata": {},
   "outputs": [
    {
     "name": "stdout",
     "output_type": "stream",
     "text": [
      "Original DataFrame:\n",
      "    A  B  C\n",
      "0  1 -5  9\n",
      "1  2  6  0\n",
      "2 -3  7 -1\n",
      "3  4 -8  2\n",
      "Modified DataFrame (Column 'B'):\n",
      "    A  B  C\n",
      "0  1  0  9\n",
      "1  2  6  0\n",
      "2 -3  7 -1\n",
      "3  4  0  2\n"
     ]
    }
   ],
   "source": [
    "# 25. Write a function to replace all negative values in a specific column with zeros.\n",
    "def replace_negatives_in_col(df, col_name):\n",
    "    df[col_name] = np.maximum(df[col_name], 0)\n",
    "    return df\n",
    "\n",
    "data = {'A': [1, 2, -3, 4], 'B': [-5, 6, 7, -8], 'C': [9, 0, -1, 2]}\n",
    "df_neg = pd.DataFrame(data)\n",
    "print(\"Original DataFrame:\\n\", df_neg)\n",
    "df_modified = replace_negatives_in_col(df_neg.copy(), 'B')\n",
    "print(\"Modified DataFrame (Column 'B'):\\n\", df_modified)"
   ]
  },
  {
   "cell_type": "code",
   "execution_count": 39,
   "id": "0376687f-995e-48c5-a755-730f7f0767d0",
   "metadata": {},
   "outputs": [
    {
     "name": "stdout",
     "output_type": "stream",
     "text": [
      "Array: [10 20 30 40 50]\n",
      "Third Element: 30\n"
     ]
    }
   ],
   "source": [
    "# 26. Access the 3rd element from the given NumPy array.\n",
    "arr = np.array([10, 20, 30, 40, 50])\n",
    "third_element = arr[2] \n",
    "print(\"Array:\", arr)\n",
    "print(\"Third Element:\", third_element)\n"
   ]
  },
  {
   "cell_type": "code",
   "execution_count": 40,
   "id": "7f46caa8-9aed-437a-b4cb-cbdc06b4793d",
   "metadata": {},
   "outputs": [
    {
     "name": "stdout",
     "output_type": "stream",
     "text": [
      "Array:\n",
      " [[1 2 3]\n",
      " [4 5 6]\n",
      " [7 8 9]]\n",
      "Element at (1, 2): 6\n"
     ]
    }
   ],
   "source": [
    "# 27. Retrieve the element at index (1, 2) from a 2D array.\n",
    "arr_2d = np.array([[1, 2, 3], [4, 5, 6], [7, 8, 9]])\n",
    "element_1_2 = arr_2d[1, 2]\n",
    "print(\"Array:\\n\", arr_2d)\n",
    "print(\"Element at (1, 2):\", element_1_2)\n"
   ]
  },
  {
   "cell_type": "code",
   "execution_count": 41,
   "id": "376f22a3-48ad-4927-8171-d80e02495674",
   "metadata": {},
   "outputs": [
    {
     "name": "stdout",
     "output_type": "stream",
     "text": [
      "Array: [ 1  8  3 10  5  6]\n",
      "Elements > 5: [ 8 10  6]\n"
     ]
    }
   ],
   "source": [
    "# 28. Extract elements greater than 5 using boolean indexing.\n",
    "arr = np.array([1, 8, 3, 10, 5, 6])\n",
    "greater_than_5 = arr[arr > 5]\n",
    "print(\"Array:\", arr)\n",
    "print(\"Elements > 5:\", greater_than_5)"
   ]
  },
  {
   "cell_type": "code",
   "execution_count": 42,
   "id": "4719d320-b176-4153-ad9c-0d775a114269",
   "metadata": {},
   "outputs": [
    {
     "name": "stdout",
     "output_type": "stream",
     "text": [
      "Array: [0 1 2 3 4 5 6 7 8 9]\n",
      "Elements from index 2 to 5: [2 3 4 5]\n"
     ]
    }
   ],
   "source": [
    "# 29. Slice elements from index 2 to 5 (inclusive) from a NumPy array.\n",
    "arr = np.arange(10)\n",
    "# Slicing is exclusive of the end index, so we use index 6 to include element at index 5.\n",
    "sliced_arr = arr[2:6]\n",
    "print(\"Array:\", arr)\n",
    "print(\"Elements from index 2 to 5:\", sliced_arr)"
   ]
  },
  {
   "cell_type": "code",
   "execution_count": 43,
   "id": "3192d214-6783-4335-a580-4b931d1e8ee1",
   "metadata": {},
   "outputs": [
    {
     "name": "stdout",
     "output_type": "stream",
     "text": [
      "Original Array:\n",
      " [[1 2 3]\n",
      " [4 5 6]]\n",
      "Sliced sub-array:\n",
      " [[2 3]\n",
      " [5 6]]\n"
     ]
    }
   ],
   "source": [
    "# 30. Slice the sub-array [[2, 3], [5, 6]] from a 2D array.\n",
    "arr_2d = np.array([[1, 2, 3], [4, 5, 6], [7, 8, 9]])\n",
    "arr_source = np.array([[0, 1, 2, 3], [4, 5, 6, 7], [8, 9, 10, 11]])\n",
    "sub_array = arr_source[0:2, 2:4] #This would be [[2,3],[6,7]]\n",
    "# Let's create an array from which [[2,3],[5,6]] can be sliced\n",
    "arr_2d_q30 = np.array([[0,1,2,3],[4,5,6,7]])\n",
    "sub_array_sliced = arr_2d_q30[0:2, 2:4] #This gives [[2,3],[6,7]].\n",
    "arr_2d_q30 = np.array([[1,2,3],[4,5,6]])\n",
    "sub_array_sliced = arr_2d_q30[0:2,1:3]\n",
    "print(\"Original Array:\\n\", arr_2d_q30)\n",
    "print(\"Sliced sub-array:\\n\", sub_array_sliced)\n"
   ]
  },
  {
   "cell_type": "code",
   "execution_count": 44,
   "id": "5f2fc830-cf66-410c-9d61-593968a55cd4",
   "metadata": {},
   "outputs": [
    {
     "name": "stdout",
     "output_type": "stream",
     "text": [
      "Array:\n",
      " [[ 0  1  2  3]\n",
      " [ 4  5  6  7]\n",
      " [ 8  9 10 11]]\n",
      "Extracted elements at (0,1), (1,2), (2,3): [ 1  6 11]\n"
     ]
    }
   ],
   "source": [
    "# 31. Extract elements based on indices from a 2D array.\n",
    "arr_2d = np.arange(12).reshape(3, 4)\n",
    "indices = ([0, 1, 2], [1, 2, 3])\n",
    "extracted_elements = arr_2d[indices]\n",
    "print(\"Array:\\n\", arr_2d)\n",
    "print(\"Extracted elements at (0,1), (1,2), (2,3):\", extracted_elements)\n"
   ]
  },
  {
   "cell_type": "code",
   "execution_count": 45,
   "id": "fd94afb4-96ea-4667-9dda-6e7d663d5d75",
   "metadata": {},
   "outputs": [
    {
     "name": "stdout",
     "output_type": "stream",
     "text": [
      "Array:\n",
      " [[10 25  5]\n",
      " [40 15 30]]\n",
      "Elements > 20: [25 40 30]\n"
     ]
    }
   ],
   "source": [
    "# 32. Filter elements greater than a threshold using boolean indexing.\n",
    "arr = np.array([[10, 25, 5], [40, 15, 30]])\n",
    "threshold = 20\n",
    "filtered_elements = arr[arr > threshold]\n",
    "print(\"Array:\\n\", arr)\n",
    "print(\"Elements > 20:\", filtered_elements)"
   ]
  },
  {
   "cell_type": "code",
   "execution_count": 46,
   "id": "0e681b10-a4a8-48a0-bbc2-601197232c0e",
   "metadata": {},
   "outputs": [
    {
     "name": "stdout",
     "output_type": "stream",
     "text": [
      "Array:\n",
      " [[[ 0  1  2  3]\n",
      "  [ 4  5  6  7]\n",
      "  [ 8  9 10 11]]\n",
      "\n",
      " [[12 13 14 15]\n",
      "  [16 17 18 19]\n",
      "  [20 21 22 23]]]\n",
      "Extracted elements: [ 1 18 11]\n"
     ]
    }
   ],
   "source": [
    "# 33. Extract specific elements from a 3D array using separate index arrays.\n",
    "arr_3d = np.arange(24).reshape(2, 3, 4)\n",
    "\n",
    "idx0 = np.array([0, 1, 0])\n",
    "idx1 = np.array([0, 1, 2])\n",
    "idx2 = np.array([1, 2, 3])\n",
    "extracted_3d = arr_3d[idx0, idx1, idx2]\n",
    "print(\"Array:\\n\", arr_3d)\n",
    "print(\"Extracted elements:\", extracted_3d)\n"
   ]
  },
  {
   "cell_type": "code",
   "execution_count": 47,
   "id": "d8a7793e-ad23-47e4-8fdd-96872c2c6745",
   "metadata": {},
   "outputs": [
    {
     "name": "stdout",
     "output_type": "stream",
     "text": [
      "Array: [ 0  1  2  3  4  5  6  7  8  9 10 11 12 13 14 15 16 17 18 19]\n",
      "Elements > 5 AND are even: [ 6  8 10 12 14 16 18]\n"
     ]
    }
   ],
   "source": [
    "# 34. Return elements satisfying two boolean conditions.\n",
    "arr = np.arange(20)\n",
    "filtered_arr = arr[(arr > 5) & (arr % 2 == 0)]\n",
    "print(\"Array:\", arr)\n",
    "print(\"Elements > 5 AND are even:\", filtered_arr)"
   ]
  },
  {
   "cell_type": "code",
   "execution_count": 48,
   "id": "67a7196a-7b2e-41d8-9453-216132b65ee8",
   "metadata": {},
   "outputs": [
    {
     "name": "stdout",
     "output_type": "stream",
     "text": [
      "Array:\n",
      " [[10 20 30]\n",
      " [40 50 60]\n",
      " [70 80 90]]\n",
      "Row indices: [0 1 2]\n",
      "Column indices: [2 1 0]\n",
      "Extracted elements: [30 50 70]\n"
     ]
    }
   ],
   "source": [
    "# 35. Extract elements from a 2D array using separate row and column index arrays.\n",
    "arr_2d = np.array([[10, 20, 30], [40, 50, 60], [70, 80, 90]])\n",
    "row_indices = np.array([0, 1, 2])\n",
    "col_indices = np.array([2, 1, 0])\n",
    "extracted = arr_2d[row_indices, col_indices]\n",
    "print(\"Array:\\n\", arr_2d)\n",
    "print(\"Row indices:\", row_indices)\n",
    "print(\"Column indices:\", col_indices)\n",
    "print(\"Extracted elements:\", extracted)"
   ]
  },
  {
   "cell_type": "code",
   "execution_count": 49,
   "id": "aa970bb8-d6ae-458f-8a3f-2d512555daad",
   "metadata": {},
   "outputs": [
    {
     "name": "stdout",
     "output_type": "stream",
     "text": [
      "Original Array:\n",
      " [[1 2]\n",
      " [3 4]]\n",
      "Array after adding 5:\n",
      " [[6 7]\n",
      " [8 9]]\n"
     ]
    }
   ],
   "source": [
    "# 36. Add scalar 5 to every element of an array using broadcasting.\n",
    "arr = np.array([[1, 2], [3, 4]])\n",
    "result = arr + 5\n",
    "print(\"Original Array:\\n\", arr)\n",
    "print(\"Array after adding 5:\\n\", result)"
   ]
  },
  {
   "cell_type": "code",
   "execution_count": 50,
   "id": "e3d98c7f-c7c5-4f93-b104-bb715a00bab8",
   "metadata": {},
   "outputs": [
    {
     "name": "stdout",
     "output_type": "stream",
     "text": [
      "Array (3,4):\n",
      " [[1. 1. 1. 1.]\n",
      " [1. 1. 1. 1.]\n",
      " [1. 1. 1. 1.]]\n",
      "Array (3,1):\n",
      " [[2]\n",
      " [3]\n",
      " [4]]\n",
      "Result:\n",
      " [[2. 2. 2. 2.]\n",
      " [3. 3. 3. 3.]\n",
      " [4. 4. 4. 4.]]\n"
     ]
    }
   ],
   "source": [
    "# 37. Multiply each row of a (3,4) array by corresponding elements of a (1,3) array.\n",
    "arr_3x4 = np.ones((3, 4))\n",
    "arr_3x1 = np.array([[2], [3], [4]]) # Shape (3,1)\n",
    "result = arr_3x4 * arr_3x1\n",
    "print(\"Array (3,4):\\n\", arr_3x4)\n",
    "print(\"Array (3,1):\\n\", arr_3x1)\n",
    "print(\"Result:\\n\", result)"
   ]
  },
  {
   "cell_type": "code",
   "execution_count": 51,
   "id": "3189723a-e3dd-4860-90fb-be3f3fa246af",
   "metadata": {},
   "outputs": [
    {
     "name": "stdout",
     "output_type": "stream",
     "text": [
      "Array (4,3):\n",
      " [[1. 1. 1.]\n",
      " [1. 1. 1.]\n",
      " [1. 1. 1.]\n",
      " [1. 1. 1.]]\n",
      "Array (1,3):\n",
      " [[0 1 2]]\n",
      "Result:\n",
      " [[1. 2. 3.]\n",
      " [1. 2. 3.]\n",
      " [1. 2. 3.]\n",
      " [1. 2. 3.]]\n"
     ]
    }
   ],
   "source": [
    "# 38. Add a (1,4) array to every row of a (4,3) array using broadcasting.\n",
    "arr_4x3 = np.ones((4, 3))\n",
    "arr_1x3 = np.arange(3).reshape(1, 3) # Shape (1,3)\n",
    "result = arr_4x3 + arr_1x3\n",
    "print(\"Array (4,3):\\n\", arr_4x3)\n",
    "print(\"Array (1,3):\\n\", arr_1x3)\n",
    "print(\"Result:\\n\", result)"
   ]
  },
  {
   "cell_type": "code",
   "execution_count": 52,
   "id": "97dde0bd-0d4f-42ae-bb66-6a7ff640353f",
   "metadata": {},
   "outputs": [
    {
     "name": "stdout",
     "output_type": "stream",
     "text": [
      "Array 1 (3,1):\n",
      " [[0]\n",
      " [1]\n",
      " [2]]\n",
      "Array 2 (1,3):\n",
      " [[0 1 2]]\n",
      "Result of addition:\n",
      " [[0 1 2]\n",
      " [1 2 3]\n",
      " [2 3 4]]\n"
     ]
    }
   ],
   "source": [
    "# 39. Add two arrays of shapes (3,1) and (1, 3) using broadcasting.\n",
    "arr1 = np.arange(3).reshape(3, 1) \n",
    "arr2 = np.arange(3).reshape(1, 3) \n",
    "result = arr1 + arr2\n",
    "print(\"Array 1 (3,1):\\n\", arr1)\n",
    "print(\"Array 2 (1,3):\\n\", arr2)\n",
    "print(\"Result of addition:\\n\", result)"
   ]
  },
  {
   "cell_type": "code",
   "execution_count": 53,
   "id": "c0a8be7d-a007-4817-98d7-a51e664f68c3",
   "metadata": {},
   "outputs": [
    {
     "name": "stdout",
     "output_type": "stream",
     "text": [
      "Attempting to multiply array of shape (2,3) with array of shape (2,2).\n",
      "Caught expected error: operands could not be broadcast together with shapes (2,3) (2,2) \n"
     ]
    }
   ],
   "source": [
    "# 40. Handle shape incompatibility during multiplication between (2,3) and (2,2) arrays.\n",
    "arr1 = np.ones((2, 3))\n",
    "arr2 = np.ones((2, 2))\n",
    "print(\"Attempting to multiply array of shape (2,3) with array of shape (2,2).\")\n",
    "try:\n",
    "    result = arr1 * arr2\n",
    "except ValueError as e:\n",
    "    print(\"Caught expected error:\", e)"
   ]
  },
  {
   "cell_type": "code",
   "execution_count": 54,
   "id": "bb6a3023-3ec2-407c-bf78-64a485011c85",
   "metadata": {},
   "outputs": [
    {
     "name": "stdout",
     "output_type": "stream",
     "text": [
      "Array:\n",
      " [[1 2 3]\n",
      " [4 5 6]\n",
      " [7 8 9]]\n",
      "Column-wise mean: [4. 5. 6.]\n"
     ]
    }
   ],
   "source": [
    "# 41. Calculate column-wise mean of a 2D array.\n",
    "arr_2d = np.array([[1, 2, 3], [4, 5, 6], [7, 8, 9]])\n",
    "col_mean = np.mean(arr_2d, axis=0)\n",
    "print(\"Array:\\n\", arr_2d)\n",
    "print(\"Column-wise mean:\", col_mean)"
   ]
  },
  {
   "cell_type": "code",
   "execution_count": 55,
   "id": "6d40b327-bf93-46bc-b371-ddfa309ffd3c",
   "metadata": {},
   "outputs": [
    {
     "name": "stdout",
     "output_type": "stream",
     "text": [
      "Array:\n",
      " [[1 5 3]\n",
      " [8 2 6]]\n",
      "Maximum value in each row: [5 8]\n"
     ]
    }
   ],
   "source": [
    "# 42. Find maximum value in each row.\n",
    "arr_2d = np.array([[1, 5, 3], [8, 2, 6]])\n",
    "row_max = np.max(arr_2d, axis=1)\n",
    "print(\"Array:\\n\", arr_2d)\n",
    "print(\"Maximum value in each row:\", row_max)"
   ]
  },
  {
   "cell_type": "code",
   "execution_count": 56,
   "id": "3bbde990-23d5-45b1-949b-afc56f2e6ff4",
   "metadata": {},
   "outputs": [
    {
     "name": "stdout",
     "output_type": "stream",
     "text": [
      "Array:\n",
      " [[1 9 3]\n",
      " [8 2 6]\n",
      " [4 5 7]]\n",
      "Indices of max values in each column: [1 0 2]\n"
     ]
    }
   ],
   "source": [
    "# 43. Find indices of maximum values in each column.\n",
    "arr_2d = np.array([[1, 9, 3], [8, 2, 6], [4, 5, 7]])\n",
    "max_indices_col = np.argmax(arr_2d, axis=0)\n",
    "print(\"Array:\\n\", arr_2d)\n",
    "print(\"Indices of max values in each column:\", max_indices_col)"
   ]
  },
  {
   "cell_type": "code",
   "execution_count": 57,
   "id": "223732c6-0531-4ce1-b334-b60fab7c363f",
   "metadata": {},
   "outputs": [
    {
     "name": "stdout",
     "output_type": "stream",
     "text": [
      "Array:\n",
      " [[ 1  2  3  4  5]\n",
      " [10 20 30 40 50]]\n",
      "Moving sum with window size 2:\n",
      " [[ 3.  5.  7.  9.]\n",
      " [30. 50. 70. 90.]]\n"
     ]
    }
   ],
   "source": [
    "# 44. Apply a custom function to compute moving sum along rows.\n",
    "def moving_sum(arr, window_size=2):\n",
    "    return np.convolve(arr, np.ones(window_size), 'valid')\n",
    "\n",
    "arr_2d = np.array([[1, 2, 3, 4, 5], [10, 20, 30, 40, 50]])\n",
    "moving_sums = np.apply_along_axis(moving_sum, axis=1, arr=arr_2d)\n",
    "print(\"Array:\\n\", arr_2d)\n",
    "print(\"Moving sum with window size 2:\\n\", moving_sums)"
   ]
  },
  {
   "cell_type": "code",
   "execution_count": 58,
   "id": "720e047d-b869-4ee3-8ab1-c2b72c81563e",
   "metadata": {},
   "outputs": [
    {
     "name": "stdout",
     "output_type": "stream",
     "text": [
      "Array:\n",
      " [[ 2  4  6]\n",
      " [ 8  3 10]\n",
      " [12 14 16]]\n",
      "Are all elements in each column even? [ True False  True]\n"
     ]
    }
   ],
   "source": [
    "# 45. Check if all elements in each column are even.\n",
    "arr_2d = np.array([[2, 4, 6], [8, 3, 10], [12, 14, 16]])\n",
    "all_even_cols = np.all(arr_2d % 2 == 0, axis=0)\n",
    "print(\"Array:\\n\", arr_2d)\n",
    "print(\"Are all elements in each column even?\", all_even_cols)\n",
    "\n"
   ]
  },
  {
   "cell_type": "code",
   "execution_count": 59,
   "id": "d7393838-83bf-45a9-a6cf-af946fdaeee1",
   "metadata": {},
   "outputs": [
    {
     "name": "stdout",
     "output_type": "stream",
     "text": [
      "Original array: [ 0  1  2  3  4  5  6  7  8  9 10 11]\n",
      "Reshaped array (3x4):\n",
      " [[ 0  1  2  3]\n",
      " [ 4  5  6  7]\n",
      " [ 8  9 10 11]]\n"
     ]
    }
   ],
   "source": [
    "# 46. Reshape a given array into dimensions m x n.\n",
    "arr = np.arange(12)\n",
    "m, n = 3, 4\n",
    "reshaped_arr = arr.reshape(m, n)\n",
    "print(\"Original array:\", arr)\n",
    "print(f\"Reshaped array ({m}x{n}):\\n\", reshaped_arr)\n"
   ]
  },
  {
   "cell_type": "code",
   "execution_count": 60,
   "id": "63659c23-2469-4af6-bded-bdaf69f51fd4",
   "metadata": {},
   "outputs": [
    {
     "name": "stdout",
     "output_type": "stream",
     "text": [
      "Original Matrix:\n",
      " [[1 2]\n",
      " [3 4]]\n",
      "Flattened Array: [1 2 3 4]\n"
     ]
    }
   ],
   "source": [
    "# 47. Return a flattened version of a given matrix.\n",
    "matrix = np.array([[1, 2], [3, 4]])\n",
    "flattened_arr = matrix.flatten()\n",
    "print(\"Original Matrix:\\n\", matrix)\n",
    "print(\"Flattened Array:\", flattened_arr)"
   ]
  },
  {
   "cell_type": "code",
   "execution_count": 61,
   "id": "ffeea8b1-c387-4b5e-9e8b-176d9986dfce",
   "metadata": {},
   "outputs": [
    {
     "name": "stdout",
     "output_type": "stream",
     "text": [
      "Concatenate along axis 0 (rows):\n",
      " [[1 2]\n",
      " [3 4]]\n"
     ]
    }
   ],
   "source": [
    "# 48. Concatenate two arrays along a specified axis. (Same as Q18)\n",
    "def concat_arrays_q48(arr1, arr2, axis=0):\n",
    "    return np.concatenate((arr1, arr2), axis=axis)\n",
    "\n",
    "a = np.array([[1, 2]])\n",
    "b = np.array([[3, 4]])\n",
    "print(\"Concatenate along axis 0 (rows):\\n\", concat_arrays_q48(a, b, axis=0))"
   ]
  },
  {
   "cell_type": "code",
   "execution_count": 62,
   "id": "89ff2561-ca12-41b3-a4da-37733423274e",
   "metadata": {},
   "outputs": [
    {
     "name": "stdout",
     "output_type": "stream",
     "text": [
      "Original array: [0 1 2 3 4 5 6 7 8]\n",
      "Split sub-arrays: [array([0, 1, 2]), array([3, 4, 5]), array([6, 7, 8])]\n"
     ]
    }
   ],
   "source": [
    "# 49. Split an array into sub-arrays along a specified axis.\n",
    "arr = np.arange(9)\n",
    "sub_arrays = np.split(arr, 3)\n",
    "print(\"Original array:\", arr)\n",
    "print(\"Split sub-arrays:\", sub_arrays)"
   ]
  },
  {
   "cell_type": "code",
   "execution_count": 63,
   "id": "e650c908-8bd6-4089-99c2-07734455c127",
   "metadata": {},
   "outputs": [
    {
     "name": "stdout",
     "output_type": "stream",
     "text": [
      "Original array: [1 2 3 4 5]\n",
      "After insertion: [ 1  2 10  3  4  5]\n",
      "After deletion: [ 1  2 10  4  5]\n"
     ]
    }
   ],
   "source": [
    "# 50. Insert and delete elements at specified indices from an array.\n",
    "arr = np.array([1, 2, 3, 4, 5])\n",
    "arr_inserted = np.insert(arr, 2, 10)\n",
    "print(\"Original array:\", arr)\n",
    "print(\"After insertion:\", arr_inserted)\n",
    "arr_deleted = np.delete(arr_inserted, 3)\n",
    "print(\"After deletion:\", arr_deleted)\n"
   ]
  },
  {
   "cell_type": "code",
   "execution_count": 64,
   "id": "0d145492-ac98-4021-a449-5a3df6c80f59",
   "metadata": {},
   "outputs": [
    {
     "name": "stdout",
     "output_type": "stream",
     "text": [
      "[1 2 3] + [4 5 6] = [5 7 9]\n"
     ]
    }
   ],
   "source": [
    "# 51. Perform element-wise addition between two arrays.\n",
    "arr1 = np.array([1, 2, 3])\n",
    "arr2 = np.array([4, 5, 6])\n",
    "result = arr1 + arr2\n",
    "print(f\"{arr1} + {arr2} = {result}\")\n"
   ]
  },
  {
   "cell_type": "code",
   "execution_count": 65,
   "id": "d1219354-9d3f-46c6-9a54-acd1dcde5d29",
   "metadata": {},
   "outputs": [
    {
     "name": "stdout",
     "output_type": "stream",
     "text": [
      "[10 20 30] - [1 2 3] = [ 9 18 27]\n"
     ]
    }
   ],
   "source": [
    "# 52. Perform element-wise subtraction: subtract arr2 from arr1.\n",
    "arr1 = np.array([10, 20, 30])\n",
    "arr2 = np.array([1, 2, 3])\n",
    "result = arr1 - arr2\n",
    "print(f\"{arr1} - {arr2} = {result}\")"
   ]
  },
  {
   "cell_type": "code",
   "execution_count": 66,
   "id": "06de1662-0ee8-4583-b79d-99338d8cc22a",
   "metadata": {},
   "outputs": [
    {
     "name": "stdout",
     "output_type": "stream",
     "text": [
      "[2 3 4] * [5 6 7] = [10 18 28]\n"
     ]
    }
   ],
   "source": [
    "# 53. Perform element-wise multiplication.\n",
    "arr1 = np.array([2, 3, 4])\n",
    "arr2 = np.array([5, 6, 7])\n",
    "result = arr1 * arr2\n",
    "print(f\"{arr1} * {arr2} = {result}\")"
   ]
  },
  {
   "cell_type": "code",
   "execution_count": 67,
   "id": "870b78dc-2157-4118-a3d4-3296c3137f9f",
   "metadata": {},
   "outputs": [
    {
     "name": "stdout",
     "output_type": "stream",
     "text": [
      "[10 20 30] / [ 2  5 10] = [5. 4. 3.]\n"
     ]
    }
   ],
   "source": [
    "# 54. Divide elements of arr1 by arr2 element-wise.\n",
    "arr1 = np.array([10, 20, 30])\n",
    "arr2 = np.array([2, 5, 10])\n",
    "result = arr1 / arr2\n",
    "print(f\"{arr1} / {arr2} = {result}\")"
   ]
  },
  {
   "cell_type": "code",
   "execution_count": 68,
   "id": "391900fe-ff4a-4a68-b8be-bc8cfb470132",
   "metadata": {},
   "outputs": [
    {
     "name": "stdout",
     "output_type": "stream",
     "text": [
      "[2 3 4] ** [3 2 1] = [8 9 4]\n"
     ]
    }
   ],
   "source": [
    "# 55. Perform element-wise exponentiation: arr1 ** arr2.\n",
    "arr1 = np.array([2, 3, 4])\n",
    "arr2 = np.array([3, 2, 1])\n",
    "result = arr1 ** arr2\n",
    "print(f\"{arr1} ** {arr2} = {result}\")\n"
   ]
  },
  {
   "cell_type": "code",
   "execution_count": 69,
   "id": "13240a97-a4ba-40a3-bb82-f6486350aa21",
   "metadata": {},
   "outputs": [
    {
     "name": "stdout",
     "output_type": "stream",
     "text": [
      "Array: ['apple' 'banana' 'application' 'apricot']\n",
      "Occurrences of 'app': [1 0 1 0]\n"
     ]
    }
   ],
   "source": [
    "# 56. Count occurrences of a substring in a string array.\n",
    "str_arr = np.array(['apple', 'banana', 'application', 'apricot'])\n",
    "substring = 'app'\n",
    "counts = np.char.count(str_arr, substring)\n",
    "print(\"Array:\", str_arr)\n",
    "print(f\"Occurrences of '{substring}':\", counts)"
   ]
  },
  {
   "cell_type": "code",
   "execution_count": 70,
   "id": "2d3e384d-31e2-4fe3-a33b-abee9f0b778a",
   "metadata": {},
   "outputs": [
    {
     "name": "stdout",
     "output_type": "stream",
     "text": [
      "Array: ['NumPy' 'Pandas' 'SciPy']\n",
      "Uppercase characters: ['NP' 'P' 'SP']\n"
     ]
    }
   ],
   "source": [
    "# 57. Extract uppercase characters from a string array.\n",
    "str_arr = np.array(['NumPy', 'Pandas', 'SciPy'])\n",
    "extract_upper = np.vectorize(lambda x: ''.join([char for char in x if char.isupper()]))\n",
    "uppers = extract_upper(str_arr)\n",
    "print(\"Array:\", str_arr)\n",
    "print(\"Uppercase characters:\", uppers)"
   ]
  },
  {
   "cell_type": "code",
   "execution_count": 71,
   "id": "fe3635e4-6ccc-4dd5-b245-004f9e35212f",
   "metadata": {},
   "outputs": [
    {
     "name": "stdout",
     "output_type": "stream",
     "text": [
      "Original array: ['hello world' 'hello numpy']\n",
      "Replaced array: ['hi world' 'hi numpy']\n"
     ]
    }
   ],
   "source": [
    "# 58. Replace substring occurrences with another string in a string array.\n",
    "str_arr = np.array(['hello world', 'hello numpy'])\n",
    "replaced_arr = np.char.replace(str_arr, 'hello', 'hi')\n",
    "print(\"Original array:\", str_arr)\n",
    "print(\"Replaced array:\", replaced_arr)\n"
   ]
  },
  {
   "cell_type": "code",
   "execution_count": 72,
   "id": "2072fda4-692d-49fc-a250-20ce998f608b",
   "metadata": {},
   "outputs": [
    {
     "name": "stdout",
     "output_type": "stream",
     "text": [
      "Array: ['short' 'longer string' 'medium']\n",
      "Length of the longest string: 13\n"
     ]
    }
   ],
   "source": [
    "# 60. Find the length of the longest string in a string array.\n",
    "str_arr = np.array(['short', 'longer string', 'medium'])\n",
    "lengths = np.vectorize(len)(str_arr)\n",
    "max_length = lengths.max()\n",
    "print(\"Array:\", str_arr)\n",
    "print(\"Length of the longest string:\", max_length)"
   ]
  },
  {
   "cell_type": "code",
   "execution_count": 73,
   "id": "ac77399b-626d-419a-9bf8-c892ef50cb8f",
   "metadata": {},
   "outputs": [
    {
     "name": "stdout",
     "output_type": "stream",
     "text": [
      "Mean: 494.81\n",
      "Median: 482.0\n",
      "Variance: 67572.99\n",
      "Standard Deviation: 259.95\n"
     ]
    }
   ],
   "source": [
    "# 61. Generate 100 random integers (1-1000) and compute stats.\n",
    "rand_arr = np.random.randint(1, 1001, 100)\n",
    "mean = np.mean(rand_arr)\n",
    "median = np.median(rand_arr)\n",
    "variance = np.var(rand_arr)\n",
    "std_dev = np.std(rand_arr)\n",
    "print(f\"Mean: {mean:.2f}\")\n",
    "print(f\"Median: {median}\")\n",
    "print(f\"Variance: {variance:.2f}\")\n",
    "print(f\"Standard Deviation: {std_dev:.2f}\")\n",
    "\n"
   ]
  },
  {
   "cell_type": "code",
   "execution_count": 74,
   "id": "f32658f2-76a6-4c18-a4cd-b822ef76949a",
   "metadata": {},
   "outputs": [
    {
     "name": "stdout",
     "output_type": "stream",
     "text": [
      "25th Percentile (Q1): 39.0\n",
      "75th Percentile (Q3): 82.0\n"
     ]
    }
   ],
   "source": [
    "# 62. Generate 50 random numbers (1-100) and compute percentiles.\n",
    "rand_arr = np.random.randint(1, 101, 50)\n",
    "p25 = np.percentile(rand_arr, 25)\n",
    "p75 = np.percentile(rand_arr, 75)\n",
    "print(f\"25th Percentile (Q1): {p25}\")\n",
    "print(f\"75th Percentile (Q3): {p75}\")"
   ]
  },
  {
   "cell_type": "code",
   "execution_count": 75,
   "id": "ff481316-e402-41d0-bfe1-deb813b16af3",
   "metadata": {},
   "outputs": [
    {
     "name": "stdout",
     "output_type": "stream",
     "text": [
      "Correlation matrix:\n",
      " [[1. 1.]\n",
      " [1. 1.]]\n",
      "Correlation coefficient: 1.00\n"
     ]
    }
   ],
   "source": [
    "# 63. Compute correlation coefficient between two arrays using np.corrcoef.\n",
    "arr1 = np.array([1, 2, 3, 4, 5])\n",
    "arr2 = np.array([2, 4, 6, 8, 10]) \n",
    "corr_matrix = np.corrcoef(arr1, arr2)\n",
    "print(\"Correlation matrix:\\n\", corr_matrix)\n",
    "print(f\"Correlation coefficient: {corr_matrix[0, 1]:.2f}\")"
   ]
  },
  {
   "cell_type": "code",
   "execution_count": 76,
   "id": "83fb72ad-3516-43bf-815e-1ef36c01d31e",
   "metadata": {},
   "outputs": [
    {
     "name": "stdout",
     "output_type": "stream",
     "text": [
      "Matrix 1:\n",
      " [[1 2]\n",
      " [3 4]]\n",
      "Matrix 2:\n",
      " [[5 6]\n",
      " [7 8]]\n",
      "Dot Product:\n",
      " [[19 22]\n",
      " [43 50]]\n",
      "Matmul (@) Product:\n",
      " [[19 22]\n",
      " [43 50]]\n"
     ]
    }
   ],
   "source": [
    "# 64. Perform matrix multiplication using np.dot.\n",
    "mat1 = np.array([[1, 2], [3, 4]])\n",
    "mat2 = np.array([[5, 6], [7, 8]])\n",
    "dot_product = np.dot(mat1, mat2)\n",
    "matmul_product = mat1 @ mat2\n",
    "print(\"Matrix 1:\\n\", mat1)\n",
    "print(\"Matrix 2:\\n\", mat2)\n",
    "print(\"Dot Product:\\n\", dot_product)\n",
    "print(\"Matmul (@) Product:\\n\", matmul_product)"
   ]
  },
  {
   "cell_type": "code",
   "execution_count": 77,
   "id": "51be934c-8fd7-4318-be6f-9c9360b0a5ad",
   "metadata": {},
   "outputs": [
    {
     "name": "stdout",
     "output_type": "stream",
     "text": [
      "10th, 50th, 90th percentiles: [ 62.9 519.  908.8]\n",
      "Quartiles (25th, 50th, 75th): [209.25 519.   755.25]\n"
     ]
    }
   ],
   "source": [
    "# 65. Compute the 10th, 50th, and 90th percentiles and quartiles for an array of 50 integers.\n",
    "rand_arr = np.random.randint(1, 1001, 50)\n",
    "percentiles = [10, 50, 90]\n",
    "quartiles = [25, 50, 75] \n",
    "p_values = np.percentile(rand_arr, percentiles)\n",
    "q_values = np.percentile(rand_arr, quartiles)\n",
    "print(f\"10th, 50th, 90th percentiles: {p_values}\")\n",
    "print(f\"Quartiles (25th, 50th, 75th): {q_values}\")"
   ]
  },
  {
   "cell_type": "code",
   "execution_count": 78,
   "id": "1526292c-e67c-4ab8-9d15-c033df3a0d7c",
   "metadata": {},
   "outputs": [
    {
     "name": "stdout",
     "output_type": "stream",
     "text": [
      "Array: [10 20 30 40 50 30]\n",
      "Indices of element 30: [2 5]\n"
     ]
    }
   ],
   "source": [
    "# 66. Find index of a specific element in an array.\n",
    "arr = np.array([10, 20, 30, 40, 50, 30])\n",
    "element_to_find = 30\n",
    "indices = np.where(arr == element_to_find)\n",
    "print(\"Array:\", arr)\n",
    "print(f\"Indices of element {element_to_find}:\", indices[0])"
   ]
  },
  {
   "cell_type": "code",
   "execution_count": 79,
   "id": "1a4399e9-b45b-4c64-9e60-0de736829365",
   "metadata": {},
   "outputs": [
    {
     "name": "stdout",
     "output_type": "stream",
     "text": [
      "Original random array: [37 57 17 62 38 12 51 42 62 21]\n",
      "Sorted array: [12 17 21 37 38 42 51 57 62 62]\n"
     ]
    }
   ],
   "source": [
    "# 67. Sort a random array in ascending order.\n",
    "rand_arr = np.random.randint(1, 100, 10)\n",
    "sorted_arr = np.sort(rand_arr)\n",
    "print(\"Original random array:\", rand_arr)\n",
    "print(\"Sorted array:\", sorted_arr)\n"
   ]
  },
  {
   "cell_type": "code",
   "execution_count": 80,
   "id": "9508285a-4eb5-4093-89c1-c541f4a6511f",
   "metadata": {},
   "outputs": [
    {
     "name": "stdout",
     "output_type": "stream",
     "text": [
      "Array: [ 5 25 15 30 10]\n",
      "Elements > 20: [25 30]\n"
     ]
    }
   ],
   "source": [
    "# 68. Filter elements greater than 20.\n",
    "arr = np.array([5, 25, 15, 30, 10])\n",
    "filtered = arr[arr > 20]\n",
    "print(\"Array:\", arr)\n",
    "print(\"Elements > 20:\", filtered)\n"
   ]
  },
  {
   "cell_type": "code",
   "execution_count": 81,
   "id": "8f1f89aa-077c-4187-aaca-ea034011eeb3",
   "metadata": {},
   "outputs": [
    {
     "name": "stdout",
     "output_type": "stream",
     "text": [
      "Array: [ 1  2  3  4  5  6  7  8  9 10]\n",
      "Elements divisible by 3: [3 6 9]\n"
     ]
    }
   ],
   "source": [
    "# 69. Filter elements divisible by 3.\n",
    "arr = np.arange(1, 11)\n",
    "filtered = arr[arr % 3 == 0]\n",
    "print(\"Array:\", arr)\n",
    "print(\"Elements divisible by 3:\", filtered)"
   ]
  },
  {
   "cell_type": "code",
   "execution_count": 82,
   "id": "1d169aa9-8c95-41ec-b387-da103efc98df",
   "metadata": {},
   "outputs": [
    {
     "name": "stdout",
     "output_type": "stream",
     "text": [
      "Array Start/End: 10 50\n",
      "Elements between 20 and 40: [20 21 22 23 24 25 26 27 28 29 30 31 32 33 34 35 36 37 38 39 40]\n"
     ]
    }
   ],
   "source": [
    "# 70. Filter elements between 20 and 40 (inclusive).\n",
    "arr = np.arange(10, 51)\n",
    "filtered = arr[(arr >= 20) & (arr <= 40)]\n",
    "print(\"Array Start/End:\", arr[0], arr[-1])\n",
    "print(\"Elements between 20 and 40:\", filtered)"
   ]
  },
  {
   "cell_type": "code",
   "execution_count": 87,
   "id": "890988b7-7872-4aeb-8472-7dab405221cd",
   "metadata": {},
   "outputs": [
    {
     "name": "stdout",
     "output_type": "stream",
     "text": [
      "Byte order symbol: =\n",
      "Byte order: Native\n"
     ]
    }
   ],
   "source": [
    "# 71. Check byte order of a NumPy array using dtype.byteorder.\n",
    "arr = np.array([1, 2, 3])\n",
    "byte_order = arr.dtype.byteorder\n",
    "order_map = {'=': 'Native', '<': 'Little-Endian', '>': 'Big-Endian'}\n",
    "print(\"Byte order symbol:\", byte_order)\n",
    "print(\"Byte order:\", order_map.get(byte_order, \"Unknown\"))\n"
   ]
  },
  {
   "cell_type": "code",
   "execution_count": 85,
   "id": "0a8fde09-e743-4038-bb5e-ab04599a4485",
   "metadata": {},
   "outputs": [
    {
     "name": "stdout",
     "output_type": "stream",
     "text": [
      "Original array: [1 2 3]\n",
      "Original array (hex): ['0x1', '0x2', '0x3']\n",
      "Swapped array: [16777216 33554432 50331648]\n",
      "Swapped array (hex): ['0x1000000', '0x2000000', '0x3000000']\n"
     ]
    }
   ],
   "source": [
    "# 72. Perform in-place byte swapping using byteswap().\n",
    "arr = np.array([1, 2, 3], dtype=np.int32)\n",
    "print(\"Original array:\", arr)\n",
    "print(\"Original array (hex):\", [hex(x) for x in arr])\n",
    "swapped_arr = arr.byteswap(inplace=True)\n",
    "print(\"Swapped array:\", swapped_arr)\n",
    "print(\"Swapped array (hex):\", [hex(x) for x in swapped_arr])"
   ]
  },
  {
   "cell_type": "code",
   "execution_count": null,
   "id": "e7eaf39a-84fc-4065-8571-e634fc09c924",
   "metadata": {},
   "outputs": [],
   "source": []
  }
 ],
 "metadata": {
  "kernelspec": {
   "display_name": "Python [conda env:base] *",
   "language": "python",
   "name": "conda-base-py"
  },
  "language_info": {
   "codemirror_mode": {
    "name": "ipython",
    "version": 3
   },
   "file_extension": ".py",
   "mimetype": "text/x-python",
   "name": "python",
   "nbconvert_exporter": "python",
   "pygments_lexer": "ipython3",
   "version": "3.12.7"
  }
 },
 "nbformat": 4,
 "nbformat_minor": 5
}
